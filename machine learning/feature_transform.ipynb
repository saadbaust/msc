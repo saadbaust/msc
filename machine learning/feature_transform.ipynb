{
 "cells": [
  {
   "cell_type": "code",
   "execution_count": null,
   "id": "b65e8d5f",
   "metadata": {},
   "outputs": [],
   "source": [
    "import pandas as pd\n",
    "import numpy as np\n",
    "import seaborn as sns\n",
    "\n",
    "from sklearn.linear_model import LinearRegression, LogisticRegression\n",
    "from sklearn.svm import SVC\n",
    "from sklearn.ensemble import RandomForestClassifier\n",
    "from sklearn.tree import DecisionTreeClassifier\n",
    "\n",
    "from sklearn.model_selection import train_test_split, KFold\n",
    "\n",
    "from sklearn.preprocessing import LabelEncoder, OneHotEncoder, OrdinalEncoder, StandardScaler, MinMaxScaler\n",
    "\n",
    "from sklearn.metrics import accuracy_score, confusion_matrix, f1_score, classification_report\n",
    "\n",
    "from sklearn.compose import ColumnTransformer\n",
    "from sklearn.impute import SimpleImputer\n",
    "from sklearn.pipeline import Pipeline"
   ]
  },
  {
   "cell_type": "code",
   "execution_count": null,
   "id": "33854225",
   "metadata": {},
   "outputs": [],
   "source": [
    "data=pd.read_csv('datasets/titanic.csv')"
   ]
  },
  {
   "cell_type": "code",
   "execution_count": null,
   "id": "cffb992d",
   "metadata": {},
   "outputs": [],
   "source": [
    "data.head(5)"
   ]
  },
  {
   "cell_type": "code",
   "execution_count": null,
   "id": "169178bd",
   "metadata": {},
   "outputs": [],
   "source": [
    "cols=['survived','pclass','sex','adult','sibsp','parch','deck','town']\n",
    "\n",
    "data.drop(cols,axis=1,inplace=True)\n",
    "data.head(5)"
   ]
  },
  {
   "cell_type": "code",
   "execution_count": null,
   "id": "b47f2d3b",
   "metadata": {},
   "outputs": [],
   "source": [
    "x=data.drop(['alive'],axis=1)\n",
    "y=data['alive']"
   ]
  },
  {
   "cell_type": "code",
   "execution_count": null,
   "id": "ad37b906",
   "metadata": {},
   "outputs": [],
   "source": [
    "x.head(5)"
   ]
  },
  {
   "cell_type": "code",
   "execution_count": null,
   "id": "ad33d0f8",
   "metadata": {},
   "outputs": [],
   "source": [
    "y.head(5)"
   ]
  },
  {
   "cell_type": "code",
   "execution_count": null,
   "id": "8fc044d8",
   "metadata": {},
   "outputs": [],
   "source": [
    "le=LabelEncoder()\n",
    "# le.fit(y)\n",
    "# y=le.transform(y)\n",
    "y=le.fit_transform(y)\n",
    "y.shape"
   ]
  },
  {
   "cell_type": "code",
   "execution_count": null,
   "id": "883d77ba",
   "metadata": {},
   "outputs": [],
   "source": [
    "xtrain,xtest,ytrain,ytest=train_test_split(x,y,test_size=0.2,random_state=42)"
   ]
  },
  {
   "cell_type": "code",
   "execution_count": null,
   "id": "111d65a4",
   "metadata": {},
   "outputs": [],
   "source": [
    "print(xtrain.shape)\n",
    "print(xtest.shape)\n",
    "print(ytrain.shape)\n",
    "print(ytest.shape)"
   ]
  },
  {
   "cell_type": "code",
   "execution_count": null,
   "id": "6730fdf2",
   "metadata": {},
   "outputs": [],
   "source": [
    "xtrain.head(3)"
   ]
  },
  {
   "cell_type": "code",
   "execution_count": null,
   "id": "bc1ed39a",
   "metadata": {},
   "outputs": [],
   "source": [
    "xtrain.isnull().sum()"
   ]
  },
  {
   "cell_type": "code",
   "execution_count": null,
   "id": "baced132",
   "metadata": {},
   "outputs": [],
   "source": [
    "ocols = ['class']\n",
    "ncols = ['who', 'alone']\n",
    "xcols = ['age']  # numeric\n",
    "mcols = ['embarked']  # categorical with missing values\n",
    "\n",
    "cat = ['Third', 'Second', 'First']\n",
    "\n",
    "pip = Pipeline([\n",
    "    ('imputer', SimpleImputer(strategy='most_frequent')),\n",
    "    ('encoder', OneHotEncoder(drop='first', sparse_output=False))\n",
    "])\n",
    "\n",
    "tfx = ColumnTransformer(transformers=[\n",
    "    ('oe', OrdinalEncoder(categories=[cat]), ocols),\n",
    "    ('ohe', OneHotEncoder(drop='first', sparse_output=False), ncols),\n",
    "    ('num_imputer', SimpleImputer(strategy='mean'), xcols),\n",
    "    ('embarked_pipe', pip, mcols)\n",
    "], remainder='passthrough')\n",
    "\n",
    "xtrain = tfx.fit_transform(xtrain)\n",
    "xtest = tfx.fit_transform(xtest)"
   ]
  },
  {
   "cell_type": "code",
   "execution_count": null,
   "id": "924f8254",
   "metadata": {},
   "outputs": [],
   "source": [
    "model=LogisticRegression(max_iter=1000)\n",
    "model.fit(xtrain,ytrain)\n",
    "ypred=model.predict(xtest)\n",
    "\n",
    "acc=accuracy_score(ytest,ypred)\n",
    "acc"
   ]
  }
 ],
 "metadata": {
  "kernelspec": {
   "display_name": "Python 3",
   "language": "python",
   "name": "python3"
  },
  "language_info": {
   "codemirror_mode": {
    "name": "ipython",
    "version": 3
   },
   "file_extension": ".py",
   "mimetype": "text/x-python",
   "name": "python",
   "nbconvert_exporter": "python",
   "pygments_lexer": "ipython3",
   "version": "3.13.6"
  }
 },
 "nbformat": 4,
 "nbformat_minor": 5
}
