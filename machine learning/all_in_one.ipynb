{
 "cells": [
  {
   "cell_type": "markdown",
   "id": "76162e8d",
   "metadata": {},
   "source": [
    "# Libray Import"
   ]
  },
  {
   "cell_type": "code",
   "execution_count": null,
   "id": "b65e8d5f",
   "metadata": {},
   "outputs": [],
   "source": [
    "import pandas as pd\n",
    "import numpy as np\n",
    "import seaborn as sns\n",
    "\n",
    "from sklearn.linear_model import LinearRegression, LogisticRegression\n",
    "from sklearn.svm import SVC\n",
    "from sklearn.ensemble import RandomForestClassifier\n",
    "from sklearn.tree import DecisionTreeClassifier\n",
    "\n",
    "from sklearn.model_selection import train_test_split, KFold,cross_val_score\n",
    "\n",
    "from sklearn.preprocessing import LabelEncoder, OneHotEncoder, OrdinalEncoder, StandardScaler, MinMaxScaler\n",
    "\n",
    "from sklearn.metrics import accuracy_score, confusion_matrix, f1_score, classification_report\n",
    "\n",
    "from sklearn.compose import ColumnTransformer\n",
    "from sklearn.impute import SimpleImputer\n",
    "from sklearn.pipeline import Pipeline"
   ]
  },
  {
   "cell_type": "markdown",
   "id": "b27a0d61",
   "metadata": {},
   "source": [
    "# Read Dataset"
   ]
  },
  {
   "cell_type": "code",
   "execution_count": null,
   "id": "33854225",
   "metadata": {},
   "outputs": [],
   "source": [
    "data=pd.read_csv('datasets/titanic.csv')"
   ]
  },
  {
   "cell_type": "markdown",
   "id": "a9dc490e",
   "metadata": {},
   "source": [
    "# Information"
   ]
  },
  {
   "cell_type": "code",
   "execution_count": null,
   "id": "cffb992d",
   "metadata": {},
   "outputs": [],
   "source": [
    "data.head(5)"
   ]
  },
  {
   "cell_type": "code",
   "execution_count": null,
   "id": "0752608c",
   "metadata": {},
   "outputs": [],
   "source": [
    "data.sample(5)"
   ]
  },
  {
   "cell_type": "code",
   "execution_count": null,
   "id": "e0cfed8b",
   "metadata": {},
   "outputs": [],
   "source": [
    "data.info()"
   ]
  },
  {
   "cell_type": "code",
   "execution_count": null,
   "id": "316edf2f",
   "metadata": {},
   "outputs": [],
   "source": [
    "data.describe()"
   ]
  },
  {
   "cell_type": "code",
   "execution_count": null,
   "id": "a638dc99",
   "metadata": {},
   "outputs": [],
   "source": [
    "data.shape"
   ]
  },
  {
   "cell_type": "code",
   "execution_count": null,
   "id": "b474a584",
   "metadata": {},
   "outputs": [],
   "source": [
    "data.isnull()\n",
    "data.isnull().sum()"
   ]
  },
  {
   "cell_type": "markdown",
   "id": "415eab8c",
   "metadata": {},
   "source": [
    "# Visualization"
   ]
  },
  {
   "cell_type": "code",
   "execution_count": null,
   "id": "7b752810",
   "metadata": {},
   "outputs": [],
   "source": [
    "# sns.pairplot(data)"
   ]
  },
  {
   "cell_type": "code",
   "execution_count": null,
   "id": "2eca831c",
   "metadata": {},
   "outputs": [],
   "source": [
    "sns.scatterplot(x=data.age,y=data.fare,hue=data.embarked,style=data['alive'])"
   ]
  },
  {
   "cell_type": "code",
   "execution_count": null,
   "id": "d8064672",
   "metadata": {},
   "outputs": [],
   "source": [
    "sns.boxplot(x=data.alive,y=data.age,hue=data.embarked)"
   ]
  },
  {
   "cell_type": "markdown",
   "id": "5cad6667",
   "metadata": {},
   "source": [
    "# Preprocessing"
   ]
  },
  {
   "cell_type": "markdown",
   "id": "e2a6ac60",
   "metadata": {},
   "source": [
    "## Column Drop"
   ]
  },
  {
   "cell_type": "code",
   "execution_count": null,
   "id": "84dad88c",
   "metadata": {},
   "outputs": [],
   "source": [
    "data.head(5)"
   ]
  },
  {
   "cell_type": "code",
   "execution_count": null,
   "id": "d1d9511b",
   "metadata": {},
   "outputs": [],
   "source": [
    "data['who'].unique()"
   ]
  },
  {
   "cell_type": "code",
   "execution_count": null,
   "id": "169178bd",
   "metadata": {},
   "outputs": [],
   "source": [
    "cols=['survived','pclass','sex','adult','sibsp','parch','deck','town']\n",
    "\n",
    "data.drop(cols,axis=1,inplace=True)\n",
    "data.head(5)"
   ]
  },
  {
   "cell_type": "markdown",
   "id": "1295450d",
   "metadata": {},
   "source": [
    "## Null Handle"
   ]
  },
  {
   "cell_type": "code",
   "execution_count": null,
   "id": "b20d927f",
   "metadata": {},
   "outputs": [],
   "source": [
    "data.isnull().sum()"
   ]
  },
  {
   "cell_type": "code",
   "execution_count": null,
   "id": "81e93b09",
   "metadata": {},
   "outputs": [],
   "source": [
    "data['age']=data['age'].fillna(data['age'].median())\n",
    "data['embarked']=data['embarked'].fillna(data['embarked'].mode()[0])\n",
    "\n",
    "data.isnull().sum()"
   ]
  },
  {
   "cell_type": "markdown",
   "id": "37021b5e",
   "metadata": {},
   "source": [
    "## Feature Target"
   ]
  },
  {
   "cell_type": "code",
   "execution_count": null,
   "id": "b47f2d3b",
   "metadata": {},
   "outputs": [],
   "source": [
    "x=data.drop(['alive'],axis=1)\n",
    "y=data['alive']"
   ]
  },
  {
   "cell_type": "code",
   "execution_count": null,
   "id": "ad37b906",
   "metadata": {},
   "outputs": [],
   "source": [
    "x.head(5)"
   ]
  },
  {
   "cell_type": "code",
   "execution_count": null,
   "id": "ad33d0f8",
   "metadata": {},
   "outputs": [],
   "source": [
    "y.head(5)"
   ]
  },
  {
   "cell_type": "markdown",
   "id": "defba511",
   "metadata": {},
   "source": [
    "## Target varibale (Label Encoder) Before Split"
   ]
  },
  {
   "cell_type": "code",
   "execution_count": null,
   "id": "8fc044d8",
   "metadata": {},
   "outputs": [],
   "source": [
    "le=LabelEncoder()\n",
    "# le.fit(y)\n",
    "# y=le.transform(y)\n",
    "y=le.fit_transform(y)\n",
    "y.shape"
   ]
  },
  {
   "cell_type": "markdown",
   "id": "db770ae4",
   "metadata": {},
   "source": [
    "## Train-Test-Split"
   ]
  },
  {
   "cell_type": "code",
   "execution_count": null,
   "id": "883d77ba",
   "metadata": {},
   "outputs": [],
   "source": [
    "xtrain,xtest,ytrain,ytest=train_test_split(x,y,test_size=0.2,random_state=42)"
   ]
  },
  {
   "cell_type": "code",
   "execution_count": null,
   "id": "111d65a4",
   "metadata": {},
   "outputs": [],
   "source": [
    "print(xtrain.shape)\n",
    "print(xtest.shape)\n",
    "print(ytrain.shape)\n",
    "print(ytest.shape)"
   ]
  },
  {
   "cell_type": "code",
   "execution_count": null,
   "id": "6730fdf2",
   "metadata": {},
   "outputs": [],
   "source": [
    "xtrain.head(3)"
   ]
  },
  {
   "cell_type": "markdown",
   "id": "c931c716",
   "metadata": {},
   "source": [
    "## Target varibale (Label Encoder) After Split"
   ]
  },
  {
   "cell_type": "code",
   "execution_count": null,
   "id": "ac572a26",
   "metadata": {},
   "outputs": [],
   "source": [
    "# le=LabelEncoder()\n",
    "# le.fit(ytrain)\n",
    "# ytrain=le.transform(ytrain)\n",
    "# ytest=le.transform(ytest)"
   ]
  },
  {
   "cell_type": "markdown",
   "id": "30a43d00",
   "metadata": {},
   "source": [
    "## Ordinal Data (Ordinal Encoder)"
   ]
  },
  {
   "cell_type": "code",
   "execution_count": null,
   "id": "d8b8c464",
   "metadata": {},
   "outputs": [],
   "source": [
    "cols=['class']\n",
    "cat=['Third','Second','First']\n",
    "\n",
    "oe=OrdinalEncoder(categories=[cat])\n",
    "oe.fit(xtrain[cols])\n",
    "xtrain[cols]=oe.transform(xtrain[cols])\n",
    "xtest[cols]=oe.transform(xtest[cols])"
   ]
  },
  {
   "cell_type": "code",
   "execution_count": null,
   "id": "74cf052e",
   "metadata": {},
   "outputs": [],
   "source": [
    "xtrain.head(5)"
   ]
  },
  {
   "cell_type": "markdown",
   "id": "8ada4f51",
   "metadata": {},
   "source": [
    "## Nominal Data (oneHotEncoding)"
   ]
  },
  {
   "cell_type": "code",
   "execution_count": null,
   "id": "cecf9175",
   "metadata": {},
   "outputs": [],
   "source": [
    "cols=['embarked','who','alone']\n",
    "\n",
    "ohe=OneHotEncoder(drop='first',sparse_output=False)\n",
    "ohe.fit(xtrain[cols])\n",
    "\n",
    "new_col=ohe.get_feature_names_out(cols)\n",
    "print(new_col)\n",
    "\n",
    "xtrain[new_col]=ohe.transform(xtrain[cols])\n",
    "xtest[new_col]=ohe.transform(xtest[cols])\n",
    "\n",
    "xtrain.drop(cols,axis=1,inplace=True)\n",
    "xtest.drop(cols,axis=1,inplace=True)"
   ]
  },
  {
   "cell_type": "code",
   "execution_count": null,
   "id": "ee79ab50",
   "metadata": {},
   "outputs": [],
   "source": [
    "xtrain.head(3)"
   ]
  },
  {
   "cell_type": "markdown",
   "id": "f49452f3",
   "metadata": {},
   "source": [
    "## Scaling"
   ]
  },
  {
   "cell_type": "code",
   "execution_count": null,
   "id": "0b9550cf",
   "metadata": {},
   "outputs": [],
   "source": [
    "cols=['age','fare']\n",
    "sc=StandardScaler()\n",
    "sc.fit(xtrain[cols])\n",
    "xtrain[cols]=sc.transform(xtrain[cols])\n",
    "xtest[cols]=sc.transform(xtest[cols])"
   ]
  },
  {
   "cell_type": "markdown",
   "id": "7ce23a80",
   "metadata": {},
   "source": [
    "# Model"
   ]
  },
  {
   "cell_type": "code",
   "execution_count": null,
   "id": "3b6db0d3",
   "metadata": {},
   "outputs": [],
   "source": [
    "model=LogisticRegression()\n",
    "model.fit(xtrain,ytrain)\n",
    "ypred=model.predict(xtest)\n",
    "\n",
    "acc=accuracy_score(ytest,ypred)\n",
    "acc"
   ]
  },
  {
   "cell_type": "markdown",
   "id": "1517445c",
   "metadata": {},
   "source": [
    "# Cross validation"
   ]
  },
  {
   "cell_type": "code",
   "execution_count": null,
   "id": "280e9d48",
   "metadata": {},
   "outputs": [],
   "source": [
    "ocols = ['class']\n",
    "ncols = ['who', 'alone']\n",
    "xcols = ['age']  # numeric\n",
    "mcols = ['embarked']  # categorical with missing values\n",
    "\n",
    "cat = ['Third', 'Second', 'First']\n",
    "\n",
    "pip = Pipeline([\n",
    "    ('imputer', SimpleImputer(strategy='most_frequent')),\n",
    "    ('encoder', OneHotEncoder(drop='first', sparse_output=False))\n",
    "])\n",
    "\n",
    "tfx = ColumnTransformer(transformers=[\n",
    "    ('oe', OrdinalEncoder(categories=[cat]), ocols),\n",
    "    ('ohe', OneHotEncoder(drop='first', sparse_output=False), ncols),\n",
    "    ('num_imputer', SimpleImputer(strategy='mean'), xcols),\n",
    "    ('embarked_pipe', pip, mcols)\n",
    "], remainder='passthrough')"
   ]
  },
  {
   "cell_type": "code",
   "execution_count": null,
   "id": "8fcfeaa9",
   "metadata": {},
   "outputs": [],
   "source": [
    "# Full pipeline including model\n",
    "kpipe = Pipeline([\n",
    "    ('transform', tfx),\n",
    "    ('model', LogisticRegression(max_iter=1000))\n",
    "])\n",
    "\n",
    "# Run cross-validation\n",
    "score = cross_val_score(kpipe, x, y, cv=5)\n",
    "print(score)\n",
    "sc = np.average(score)\n",
    "\n",
    "print(f\"Average CV score: {sc:.4f}\")"
   ]
  }
 ],
 "metadata": {
  "kernelspec": {
   "display_name": "Python 3",
   "language": "python",
   "name": "python3"
  },
  "language_info": {
   "codemirror_mode": {
    "name": "ipython",
    "version": 3
   },
   "file_extension": ".py",
   "mimetype": "text/x-python",
   "name": "python",
   "nbconvert_exporter": "python",
   "pygments_lexer": "ipython3",
   "version": "3.13.6"
  }
 },
 "nbformat": 4,
 "nbformat_minor": 5
}
