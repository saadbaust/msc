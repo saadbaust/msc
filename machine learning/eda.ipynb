{
 "cells": [
  {
   "cell_type": "code",
   "execution_count": null,
   "id": "b1633a12",
   "metadata": {},
   "outputs": [],
   "source": [
    "import pandas as pd\n",
    "import seaborn as sns\n",
    "import matplotlib.pyplot as plt"
   ]
  },
  {
   "cell_type": "code",
   "execution_count": null,
   "id": "a7fff212",
   "metadata": {},
   "outputs": [],
   "source": [
    "data=pd.read_csv(\"datasets/housepricemul.csv\")"
   ]
  },
  {
   "cell_type": "code",
   "execution_count": null,
   "id": "15452e05",
   "metadata": {},
   "outputs": [],
   "source": [
    "data.sample(5)\n",
    "data.head(5)"
   ]
  },
  {
   "cell_type": "code",
   "execution_count": null,
   "id": "367b4291",
   "metadata": {},
   "outputs": [],
   "source": [
    "data.shape"
   ]
  },
  {
   "cell_type": "code",
   "execution_count": null,
   "id": "6848130f",
   "metadata": {},
   "outputs": [],
   "source": [
    "data.info()"
   ]
  },
  {
   "cell_type": "code",
   "execution_count": null,
   "id": "509f925b",
   "metadata": {},
   "outputs": [],
   "source": [
    "# data.describe()"
   ]
  },
  {
   "cell_type": "code",
   "execution_count": null,
   "id": "7da4064d",
   "metadata": {},
   "outputs": [],
   "source": [
    "data.isnull()\n",
    "data.isnull().sum()"
   ]
  },
  {
   "cell_type": "code",
   "execution_count": null,
   "id": "f601f28f",
   "metadata": {},
   "outputs": [],
   "source": [
    "data.duplicated().sum()"
   ]
  },
  {
   "cell_type": "code",
   "execution_count": null,
   "id": "b300f73a",
   "metadata": {},
   "outputs": [],
   "source": [
    "# data[\"mainroad\"].replace({\"yes\":1,\"no\":0},inplace=True)\n",
    "# data[\"guestroom\"].replace({\"yes\":1,\"no\":0},inplace=True)\n",
    "# data[\"basement\"].replace({\"yes\":1,\"no\":0},inplace=True)\n",
    "# data[\"hotwaterheating\"].replace({\"yes\":1,\"no\":0},inplace=True)\n",
    "# data[\"airconditioning\"].replace({\"yes\":1,\"no\":0},inplace=True)\n",
    "# data[\"prefarea\"].replace({\"yes\":1,\"no\":0},inplace=True)\n",
    "\n",
    "# data=data.drop(\"furnishingstatus\",axis=\"columns\")\n",
    "# data.head(5)"
   ]
  },
  {
   "cell_type": "code",
   "execution_count": null,
   "id": "6de949ec",
   "metadata": {},
   "outputs": [],
   "source": [
    "# data.corr()[\"price\"]"
   ]
  },
  {
   "cell_type": "markdown",
   "id": "69b4b6aa",
   "metadata": {},
   "source": [
    "# Univariate Data Analysis"
   ]
  },
  {
   "cell_type": "code",
   "execution_count": null,
   "id": "3e1d5055",
   "metadata": {},
   "outputs": [],
   "source": [
    "sns.countplot(data[\"furnishingstatus\"])"
   ]
  },
  {
   "cell_type": "code",
   "execution_count": null,
   "id": "94b5e35b",
   "metadata": {},
   "outputs": [],
   "source": [
    "data[\"furnishingstatus\"].value_counts().plot(kind=\"pie\")"
   ]
  },
  {
   "cell_type": "code",
   "execution_count": null,
   "id": "0685fc0d",
   "metadata": {},
   "outputs": [],
   "source": [
    "sns.histplot(data[\"furnishingstatus\"])"
   ]
  },
  {
   "cell_type": "code",
   "execution_count": null,
   "id": "34116443",
   "metadata": {},
   "outputs": [],
   "source": [
    "sns.distplot(data[\"area\"])"
   ]
  },
  {
   "cell_type": "code",
   "execution_count": null,
   "id": "70d1408d",
   "metadata": {},
   "outputs": [],
   "source": [
    "sns.boxplot(data[\"bedrooms\"])"
   ]
  },
  {
   "cell_type": "code",
   "execution_count": null,
   "id": "e5010213",
   "metadata": {},
   "outputs": [],
   "source": [
    "sns.kdeplot(data[\"area\"])"
   ]
  },
  {
   "cell_type": "markdown",
   "id": "a02f2dd4",
   "metadata": {},
   "source": [
    "# Multivariate Data Analysis"
   ]
  },
  {
   "cell_type": "markdown",
   "id": "ff0d7515",
   "metadata": {},
   "source": [
    "## Numerical-Numerical"
   ]
  },
  {
   "cell_type": "code",
   "execution_count": null,
   "id": "9a39223c",
   "metadata": {},
   "outputs": [],
   "source": [
    "sns.scatterplot(data=data,x=\"price\",y=\"area\")"
   ]
  },
  {
   "cell_type": "code",
   "execution_count": null,
   "id": "7f82bbc8",
   "metadata": {},
   "outputs": [],
   "source": [
    "sns.scatterplot(data=data,x=\"price\",y=\"area\",hue=\"basement\")"
   ]
  },
  {
   "cell_type": "code",
   "execution_count": null,
   "id": "7686a6ea",
   "metadata": {},
   "outputs": [],
   "source": [
    "sns.scatterplot(data=data,x=\"price\",y=\"area\",hue=\"basement\",style=\"guestroom\",size=\"stories\")"
   ]
  },
  {
   "cell_type": "markdown",
   "id": "a6535426",
   "metadata": {},
   "source": [
    "## Numerical-Categorial"
   ]
  },
  {
   "cell_type": "code",
   "execution_count": null,
   "id": "a0ee1ce1",
   "metadata": {},
   "outputs": [],
   "source": [
    "sns.barplot(data=data,x=\"mainroad\",y=\"price\")\n",
    "sns.barplot(data=data,x=\"mainroad\",y=\"price\",hue=\"basement\")"
   ]
  },
  {
   "cell_type": "code",
   "execution_count": null,
   "id": "86d7079a",
   "metadata": {},
   "outputs": [],
   "source": [
    "sns.boxplot(data=data,x=\"basement\",y=\"price\")"
   ]
  },
  {
   "cell_type": "markdown",
   "id": "6b48af61",
   "metadata": {},
   "source": [
    "## Categorial-Categorial"
   ]
  },
  {
   "cell_type": "code",
   "execution_count": null,
   "id": "ce1b2996",
   "metadata": {},
   "outputs": [],
   "source": [
    "cm=pd.crosstab(data[\"furnishingstatus\"],data[\"basement\"])\n",
    "cm"
   ]
  },
  {
   "cell_type": "code",
   "execution_count": null,
   "id": "291ec04d",
   "metadata": {},
   "outputs": [],
   "source": [
    "sns.heatmap(cm,annot=True,fmt=\"\")"
   ]
  },
  {
   "cell_type": "markdown",
   "id": "28a86c8f",
   "metadata": {},
   "source": [
    "# Whole dataset"
   ]
  },
  {
   "cell_type": "code",
   "execution_count": null,
   "id": "a7d286cd",
   "metadata": {},
   "outputs": [],
   "source": [
    "sns.pairplot(data,hue=\"mainroad\")"
   ]
  }
 ],
 "metadata": {
  "kernelspec": {
   "display_name": "Python 3",
   "language": "python",
   "name": "python3"
  },
  "language_info": {
   "codemirror_mode": {
    "name": "ipython",
    "version": 3
   },
   "file_extension": ".py",
   "mimetype": "text/x-python",
   "name": "python",
   "nbconvert_exporter": "python",
   "pygments_lexer": "ipython3",
   "version": "3.13.6"
  }
 },
 "nbformat": 4,
 "nbformat_minor": 5
}
