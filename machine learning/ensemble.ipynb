{
 "cells": [
  {
   "cell_type": "code",
   "execution_count": 99,
   "id": "3d7b3a34",
   "metadata": {},
   "outputs": [],
   "source": [
    "import pandas as pd\n",
    "import numpy as np\n",
    "import seaborn as sns\n",
    "import matplotlib.pyplot as plt\n",
    "\n",
    "from sklearn.linear_model import LinearRegression,LogisticRegression\n",
    "from sklearn.svm import SVC\n",
    "from sklearn.tree import DecisionTreeClassifier\n",
    "from sklearn.ensemble import RandomForestClassifier\n",
    "from sklearn.ensemble import VotingClassifier,StackingClassifier,BaggingClassifier,AdaBoostClassifier\n",
    "from sklearn.naive_bayes import GaussianNB\n",
    "\n",
    "from sklearn.model_selection import train_test_split,KFold,cross_val_score\n",
    "from sklearn.preprocessing import StandardScaler,MinMaxScaler,OneHotEncoder,LabelEncoder,OrdinalEncoder\n",
    "from sklearn.metrics import mean_squared_error, root_mean_squared_error,r2_score,accuracy_score,confusion_matrix,f1_score,classification_report\n",
    "from sklearn.compose import ColumnTransformer\n",
    "from sklearn.pipeline import Pipeline\n",
    "from sklearn.impute import SimpleImputer"
   ]
  },
  {
   "cell_type": "code",
   "execution_count": 100,
   "id": "c9c928ac",
   "metadata": {},
   "outputs": [],
   "source": [
    "data=pd.read_csv('datasets/wine.csv')"
   ]
  },
  {
   "cell_type": "code",
   "execution_count": 101,
   "id": "0a26b47e",
   "metadata": {},
   "outputs": [
    {
     "name": "stdout",
     "output_type": "stream",
     "text": [
      "Dataset:\n",
      "    type  Alcohol  Malic_acid   Ash  Alcalinity_of_ash  Magnesium  \\\n",
      "0     1    14.23        1.71  2.43               15.6        127   \n",
      "1     1    13.20        1.78  2.14               11.2        100   \n",
      "2     1    13.16        2.36  2.67               18.6        101   \n",
      "\n",
      "   Total_phenols  Flavanoids  Nonflavanoid_phenols  Proanthocyanins  \\\n",
      "0           2.80        3.06                  0.28             2.29   \n",
      "1           2.65        2.76                  0.26             1.28   \n",
      "2           2.80        3.24                  0.30             2.81   \n",
      "\n",
      "   Color_intensity   Hue  OD280%2FOD315_of_diluted_wines  Proline  \n",
      "0             5.64  1.04                            3.92     1065  \n",
      "1             4.38  1.05                            3.40     1050  \n",
      "2             5.68  1.03                            3.17     1185  \n",
      "Shape:\n",
      " (178, 14)\n",
      "type                              0\n",
      "Alcohol                           0\n",
      "Malic_acid                        0\n",
      "Ash                               0\n",
      "Alcalinity_of_ash                 0\n",
      "Magnesium                         0\n",
      "Total_phenols                     0\n",
      "Flavanoids                        0\n",
      "Nonflavanoid_phenols              0\n",
      "Proanthocyanins                   0\n",
      "Color_intensity                   0\n",
      "Hue                               0\n",
      "OD280%2FOD315_of_diluted_wines    0\n",
      "Proline                           0\n",
      "dtype: int64\n"
     ]
    }
   ],
   "source": [
    "print(\"Dataset:\\n\",data.head(3))\n",
    "print(\"Shape:\\n\",data.shape)\n",
    "print(data.isnull().sum())"
   ]
  },
  {
   "cell_type": "code",
   "execution_count": 102,
   "id": "15292322",
   "metadata": {},
   "outputs": [],
   "source": [
    "x=data.drop('type',axis=1)\n",
    "y=data['type']"
   ]
  },
  {
   "cell_type": "code",
   "execution_count": 103,
   "id": "8e14e967",
   "metadata": {},
   "outputs": [],
   "source": [
    "xtrain,xtest,ytrain,ytest=train_test_split(x,y,test_size=0.85,random_state=42)"
   ]
  },
  {
   "cell_type": "code",
   "execution_count": 104,
   "id": "364be718",
   "metadata": {},
   "outputs": [
    {
     "data": {
      "text/plain": [
       "0.881578947368421"
      ]
     },
     "execution_count": 104,
     "metadata": {},
     "output_type": "execute_result"
    }
   ],
   "source": [
    "model=LogisticRegression(max_iter=10000)\n",
    "model.fit(xtrain,ytrain)\n",
    "ypred=model.predict(xtest)\n",
    "\n",
    "acc=accuracy_score(ytest,ypred)\n",
    "acc"
   ]
  },
  {
   "cell_type": "code",
   "execution_count": 105,
   "id": "83abc658",
   "metadata": {},
   "outputs": [],
   "source": [
    "sc=StandardScaler()\n",
    "# sc=MinMaxScaler()\n",
    "xtrain=sc.fit_transform(xtrain)\n",
    "xtest=sc.transform(xtest)"
   ]
  },
  {
   "cell_type": "code",
   "execution_count": 106,
   "id": "b74a013a",
   "metadata": {},
   "outputs": [
    {
     "data": {
      "text/plain": [
       "0.9407894736842105"
      ]
     },
     "execution_count": 106,
     "metadata": {},
     "output_type": "execute_result"
    }
   ],
   "source": [
    "model=LogisticRegression()\n",
    "model.fit(xtrain,ytrain)\n",
    "ypred=model.predict(xtest)\n",
    "\n",
    "acc=accuracy_score(ytest,ypred)\n",
    "acc"
   ]
  },
  {
   "cell_type": "code",
   "execution_count": 107,
   "id": "873bea79",
   "metadata": {},
   "outputs": [
    {
     "name": "stdout",
     "output_type": "stream",
     "text": [
      "Voting Accuracy: 0.9671052631578947\n"
     ]
    }
   ],
   "source": [
    "voting = VotingClassifier(\n",
    "    estimators=[('lr', LogisticRegression()), ('svc', SVC(probability=True)), ('gnb', GaussianNB()),('dt', DecisionTreeClassifier())],\n",
    "    voting='soft'  # or 'hard'\n",
    "    # voting='hard'  # or 'hard'\n",
    ")\n",
    "\n",
    "voting.fit(xtrain, ytrain)\n",
    "ypred = voting.predict(xtest)\n",
    "print(\"Voting Accuracy:\", accuracy_score(ytest, ypred))"
   ]
  },
  {
   "cell_type": "code",
   "execution_count": 108,
   "id": "70da0bc9",
   "metadata": {},
   "outputs": [
    {
     "name": "stdout",
     "output_type": "stream",
     "text": [
      "Stacking Accuracy: 0.9868421052631579\n"
     ]
    }
   ],
   "source": [
    "# Stacking with inline base and meta models\n",
    "stacking = StackingClassifier(\n",
    "    estimators=[\n",
    "        ('knn', LogisticRegression()),\n",
    "        ('dt', DecisionTreeClassifier()),\n",
    "        ('rf', RandomForestClassifier()),\n",
    "        ('svc', SVC())\n",
    "    ],\n",
    "    final_estimator=LogisticRegression()\n",
    ")\n",
    "\n",
    "# Fit and evaluate\n",
    "stacking.fit(xtrain, ytrain)\n",
    "y_pred = stacking.predict(xtest)\n",
    "print(\"Stacking Accuracy:\", accuracy_score(ytest, y_pred))"
   ]
  },
  {
   "cell_type": "code",
   "execution_count": 109,
   "id": "ead8bcfb",
   "metadata": {},
   "outputs": [
    {
     "name": "stdout",
     "output_type": "stream",
     "text": [
      "Bagging Accuracy: 0.9605263157894737\n"
     ]
    }
   ],
   "source": [
    "# Bagging ensemble\n",
    "bagging = BaggingClassifier(estimator=RandomForestClassifier(), n_estimators=500, random_state=0)\n",
    "# bagging = BaggingClassifier(estimator=DecisionTreeClassifier(), n_estimators=500, max_samples=0.25,bootstrap=False,  verbose=1,  random_state=42)\n",
    "# bagging = BaggingClassifier(estimator=DecisionTreeClassifier(), n_estimators=500, max_samples=0.25,bootstrap=True,max_features=0.5,bootstrap_features=True,random_state=42)\n",
    "bagging.fit(xtrain, ytrain)\n",
    "\n",
    "# Evaluate\n",
    "y_pred = bagging.predict(xtest)\n",
    "print(\"Bagging Accuracy:\", accuracy_score(ytest, y_pred))"
   ]
  },
  {
   "cell_type": "code",
   "execution_count": 110,
   "id": "36ae14f6",
   "metadata": {},
   "outputs": [
    {
     "name": "stdout",
     "output_type": "stream",
     "text": [
      "AdaBoost Accuracy: 0.9276315789473685\n"
     ]
    }
   ],
   "source": [
    "# Base learner is usually a weak model like shallow Decision Tree\n",
    "boosting = AdaBoostClassifier(estimator=LogisticRegression(),n_estimators=500,learning_rate=1.0,random_state=0)\n",
    "\n",
    "boosting.fit(xtrain, ytrain)\n",
    "y_pred = boosting.predict(xtest)\n",
    "print(\"AdaBoost Accuracy:\", accuracy_score(ytest, y_pred))"
   ]
  }
 ],
 "metadata": {
  "kernelspec": {
   "display_name": "Python 3",
   "language": "python",
   "name": "python3"
  },
  "language_info": {
   "codemirror_mode": {
    "name": "ipython",
    "version": 3
   },
   "file_extension": ".py",
   "mimetype": "text/x-python",
   "name": "python",
   "nbconvert_exporter": "python",
   "pygments_lexer": "ipython3",
   "version": "3.13.6"
  }
 },
 "nbformat": 4,
 "nbformat_minor": 5
}
