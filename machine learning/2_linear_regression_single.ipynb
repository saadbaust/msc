{
 "cells": [
  {
   "cell_type": "code",
   "execution_count": null,
   "id": "c6942547",
   "metadata": {},
   "outputs": [],
   "source": [
    "import pandas as pd\n",
    "import numpy as np\n",
    "import matplotlib.pyplot as plt \n",
    "from sklearn import linear_model\n",
    "from sklearn.model_selection import train_test_split"
   ]
  },
  {
   "cell_type": "code",
   "execution_count": null,
   "id": "355c045a",
   "metadata": {},
   "outputs": [],
   "source": [
    "data=pd.read_csv(\"datasets/placement.csv\")\n",
    "data.head(5)"
   ]
  },
  {
   "cell_type": "code",
   "execution_count": null,
   "id": "5fff6d44",
   "metadata": {},
   "outputs": [],
   "source": [
    "x=data.drop(\"package\",axis=\"columns\")"
   ]
  },
  {
   "cell_type": "code",
   "execution_count": null,
   "id": "80fe78e9",
   "metadata": {},
   "outputs": [],
   "source": [
    "y=data.package"
   ]
  },
  {
   "cell_type": "code",
   "execution_count": null,
   "id": "70957404",
   "metadata": {},
   "outputs": [],
   "source": [
    "plt.scatter(x,y,color=\"red\",marker=\"+\")"
   ]
  },
  {
   "cell_type": "code",
   "execution_count": null,
   "id": "27090180",
   "metadata": {},
   "outputs": [],
   "source": [
    "x_train,x_test,y_train,y_test=train_test_split(x,y,test_size=0.2,random_state=42)"
   ]
  },
  {
   "cell_type": "code",
   "execution_count": null,
   "id": "4b213f1a",
   "metadata": {},
   "outputs": [],
   "source": [
    "model=linear_model.LinearRegression()\n",
    "model"
   ]
  },
  {
   "cell_type": "code",
   "execution_count": null,
   "id": "41af2107",
   "metadata": {},
   "outputs": [],
   "source": [
    "model.fit(x_train,y_train)"
   ]
  },
  {
   "cell_type": "code",
   "execution_count": null,
   "id": "34c33bb7",
   "metadata": {},
   "outputs": [],
   "source": [
    "y_pred=model.predict(x_test)"
   ]
  },
  {
   "cell_type": "code",
   "execution_count": null,
   "id": "1aae6c0f",
   "metadata": {},
   "outputs": [],
   "source": [
    "plt.scatter(x,y,color=\"red\",marker=\"+\")\n",
    "plt.plot(x_train,model.predict(x_train))"
   ]
  },
  {
   "cell_type": "code",
   "execution_count": null,
   "id": "b175ce40",
   "metadata": {},
   "outputs": [],
   "source": [
    "model.predict([[5.5]])"
   ]
  },
  {
   "cell_type": "code",
   "execution_count": null,
   "id": "573a6227",
   "metadata": {},
   "outputs": [],
   "source": [
    "from sklearn.metrics import mean_absolute_error, mean_squared_error, root_mean_squared_error, r2_score"
   ]
  },
  {
   "cell_type": "code",
   "execution_count": null,
   "id": "bb2b7f08",
   "metadata": {},
   "outputs": [],
   "source": [
    "print(\"MSE\",mean_squared_error(y_test,y_pred))\n",
    "print(\"MSE\",root_mean_squared_error(y_test,y_pred))\n",
    "print(\"MSE\",mean_absolute_error(y_test,y_pred))\n",
    "print(\"MSE\",r2_score(y_test,y_pred))"
   ]
  }
 ],
 "metadata": {
  "kernelspec": {
   "display_name": "Python 3",
   "language": "python",
   "name": "python3"
  },
  "language_info": {
   "codemirror_mode": {
    "name": "ipython",
    "version": 3
   },
   "file_extension": ".py",
   "mimetype": "text/x-python",
   "name": "python",
   "nbconvert_exporter": "python",
   "pygments_lexer": "ipython3",
   "version": "3.13.6"
  }
 },
 "nbformat": 4,
 "nbformat_minor": 5
}
