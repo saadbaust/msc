{
 "cells": [
  {
   "cell_type": "markdown",
   "id": "72a79163",
   "metadata": {},
   "source": [
    "Import Libraries"
   ]
  },
  {
   "cell_type": "code",
   "execution_count": null,
   "id": "5c4e37bd",
   "metadata": {},
   "outputs": [],
   "source": [
    "import pandas as pd\n",
    "import numpy as np\n",
    "import matplotlib.pyplot as plt\n",
    "import seaborn as sns\n",
    "\n",
    "from sklearn.linear_model import LinearRegression\n",
    "from sklearn.linear_model import LogisticRegression\n",
    "\n",
    "from sklearn.model_selection import train_test_split\n",
    "from sklearn.metrics import mean_squared_error,root_mean_squared_error,mean_absolute_error,r2_score\n",
    "from sklearn.metrics import accuracy_score, confusion_matrix, f1_score"
   ]
  },
  {
   "cell_type": "markdown",
   "id": "d5477f63",
   "metadata": {},
   "source": [
    "Read Data"
   ]
  },
  {
   "cell_type": "code",
   "execution_count": null,
   "id": "e262c172",
   "metadata": {},
   "outputs": [],
   "source": [
    "data1 = pd.read_csv(\"datasets/placement.csv\")\n",
    "data2 = pd.read_csv(\"datasets/housepricemulbasic.csv\")\n",
    "data3 = pd.read_csv(\"datasets/insurance.csv\")\n",
    "print(data1.head(3))\n",
    "print(data2.head(3))\n",
    "print(data3.head(3))"
   ]
  },
  {
   "cell_type": "markdown",
   "id": "f2f62b7e",
   "metadata": {},
   "source": [
    "NULL Handle"
   ]
  },
  {
   "cell_type": "code",
   "execution_count": null,
   "id": "c47f1aac",
   "metadata": {},
   "outputs": [],
   "source": [
    "data2.isnull().sum()"
   ]
  },
  {
   "cell_type": "code",
   "execution_count": null,
   "id": "1aabe71b",
   "metadata": {},
   "outputs": [],
   "source": [
    "med=data2[\"bedrooms\"].median()\n",
    "data2[\"bedrooms\"].fillna(med,inplace=True)\n",
    "data2.isnull().sum()"
   ]
  },
  {
   "cell_type": "code",
   "execution_count": null,
   "id": "71cc6806",
   "metadata": {},
   "outputs": [],
   "source": [
    "data3[\"bought_insurance\"].replace({\"No\":0,\"Yes\":1},inplace=True)"
   ]
  },
  {
   "cell_type": "markdown",
   "id": "5f993843",
   "metadata": {},
   "source": [
    "Feature and Target Variable Seperate"
   ]
  },
  {
   "cell_type": "code",
   "execution_count": null,
   "id": "b8417570",
   "metadata": {},
   "outputs": [],
   "source": [
    "x1 = data1.drop(\"package\", axis=\"columns\")\n",
    "y1 = data1[\"package\"]\n",
    "x2 = data2.drop(\"price\", axis=\"columns\")\n",
    "y2 = data2[\"price\"]\n",
    "x3 = data3.drop(\"bought_insurance\", axis=\"columns\")\n",
    "y3 = data3[\"bought_insurance\"]"
   ]
  },
  {
   "cell_type": "markdown",
   "id": "b5c1d8b8",
   "metadata": {},
   "source": [
    "Linear Regression Single"
   ]
  },
  {
   "cell_type": "code",
   "execution_count": null,
   "id": "19df71e7",
   "metadata": {},
   "outputs": [],
   "source": [
    "x_train, x_test, y_train, y_test = train_test_split(x1, y1, test_size=0.2, random_state=42)"
   ]
  },
  {
   "cell_type": "code",
   "execution_count": null,
   "id": "345a7f72",
   "metadata": {},
   "outputs": [],
   "source": [
    "model1 = LinearRegression()\n",
    "model1.fit(x_train, y_train)"
   ]
  },
  {
   "cell_type": "code",
   "execution_count": null,
   "id": "acf7e97e",
   "metadata": {},
   "outputs": [],
   "source": [
    "print(model1.coef_)\n",
    "print(model1.intercept_)"
   ]
  },
  {
   "cell_type": "code",
   "execution_count": null,
   "id": "46cdd56b",
   "metadata": {},
   "outputs": [],
   "source": [
    "y_pred = model1.predict(x_test)"
   ]
  },
  {
   "cell_type": "code",
   "execution_count": null,
   "id": "6a730ec7",
   "metadata": {},
   "outputs": [],
   "source": [
    "print(mean_squared_error(y_test, y_pred))\n",
    "print(root_mean_squared_error(y_test, y_pred))\n",
    "print(mean_absolute_error(y_test, y_pred))\n",
    "print(r2_score(y_test, y_pred))"
   ]
  },
  {
   "cell_type": "markdown",
   "id": "f91a3c72",
   "metadata": {},
   "source": [
    "Linear Regression Multiple "
   ]
  },
  {
   "cell_type": "code",
   "execution_count": null,
   "id": "07d20d8c",
   "metadata": {},
   "outputs": [],
   "source": [
    "x_train, x_test, y_train, y_test = train_test_split(x2, y2, test_size=0.2, random_state=42)"
   ]
  },
  {
   "cell_type": "code",
   "execution_count": null,
   "id": "d29e2032",
   "metadata": {},
   "outputs": [],
   "source": [
    "model2 = LinearRegression()\n",
    "model2.fit(x_train, y_train)"
   ]
  },
  {
   "cell_type": "code",
   "execution_count": null,
   "id": "c62d45d8",
   "metadata": {},
   "outputs": [],
   "source": [
    "y_pred = model2.predict(x_test)"
   ]
  },
  {
   "cell_type": "code",
   "execution_count": null,
   "id": "83333273",
   "metadata": {},
   "outputs": [],
   "source": [
    "print(model2.coef_)\n",
    "print(model2.intercept_)"
   ]
  },
  {
   "cell_type": "code",
   "execution_count": null,
   "id": "973ddb82",
   "metadata": {},
   "outputs": [],
   "source": [
    "print(mean_squared_error(y_test,y_pred))\n",
    "print(root_mean_squared_error(y_test,y_pred))\n",
    "print(mean_absolute_error(y_test,y_pred))\n",
    "print(r2_score(y_test,y_pred))"
   ]
  },
  {
   "cell_type": "markdown",
   "id": "f971c755",
   "metadata": {},
   "source": [
    "Logistic Regression Single "
   ]
  },
  {
   "cell_type": "code",
   "execution_count": null,
   "id": "70a5ae14",
   "metadata": {},
   "outputs": [],
   "source": [
    "x_train, x_test, y_train, y_test = train_test_split(x3, y3, test_size=0.2, random_state=42)"
   ]
  },
  {
   "cell_type": "code",
   "execution_count": null,
   "id": "f0148e94",
   "metadata": {},
   "outputs": [],
   "source": [
    "model3=LogisticRegression()\n",
    "model3.fit(x_train,y_train)\n",
    "y_pred=model3.predict(x_test)"
   ]
  },
  {
   "cell_type": "code",
   "execution_count": null,
   "id": "49933f5d",
   "metadata": {},
   "outputs": [],
   "source": [
    "print(\"Accuracy:\",accuracy_score(y_test,y_pred))\n",
    "print(\"F1 Score:\",f1_score(y_test,y_pred))\n",
    "\n",
    "cm=confusion_matrix(y_test,y_pred)\n",
    "\n",
    "sns.heatmap(cm,annot=True)"
   ]
  }
 ],
 "metadata": {
  "kernelspec": {
   "display_name": "Python 3",
   "language": "python",
   "name": "python3"
  },
  "language_info": {
   "codemirror_mode": {
    "name": "ipython",
    "version": 3
   },
   "file_extension": ".py",
   "mimetype": "text/x-python",
   "name": "python",
   "nbconvert_exporter": "python",
   "pygments_lexer": "ipython3",
   "version": "3.13.6"
  }
 },
 "nbformat": 4,
 "nbformat_minor": 5
}
