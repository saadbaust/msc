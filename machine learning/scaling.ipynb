{
 "cells": [
  {
   "cell_type": "code",
   "execution_count": null,
   "id": "67cc4171",
   "metadata": {},
   "outputs": [],
   "source": [
    "import pandas as pd\n",
    "import numpy as np\n",
    "import matplotlib.pyplot as plt\n",
    "\n",
    "from sklearn.linear_model import LogisticRegression\n",
    "\n",
    "from sklearn.model_selection import train_test_split\n",
    "from sklearn.preprocessing import StandardScaler, MinMaxScaler\n",
    "\n",
    "from sklearn.metrics import classification_report, confusion_matrix, accuracy_score, f1_score\n",
    "import seaborn as sns"
   ]
  },
  {
   "cell_type": "code",
   "execution_count": null,
   "id": "67eebc2b",
   "metadata": {},
   "outputs": [],
   "source": [
    "data=pd.read_csv(\"datasets/wine.csv\")\n",
    "data.head(5)"
   ]
  },
  {
   "cell_type": "code",
   "execution_count": null,
   "id": "833b2ec8",
   "metadata": {},
   "outputs": [],
   "source": [
    "data[\"type\"].replace({\"red\":0,\"white\":1},inplace=True)\n",
    "# data.head(5)"
   ]
  },
  {
   "cell_type": "code",
   "execution_count": null,
   "id": "5f1de58d",
   "metadata": {},
   "outputs": [],
   "source": [
    "x=data.drop(\"type\",axis=\"columns\")\n",
    "y=data[\"type\"]"
   ]
  },
  {
   "cell_type": "code",
   "execution_count": null,
   "id": "d06b2a37",
   "metadata": {},
   "outputs": [],
   "source": [
    "x_train,x_test,y_train,y_test=train_test_split(x,y,test_size=0.2,random_state=42)"
   ]
  },
  {
   "cell_type": "markdown",
   "id": "cbcfd247",
   "metadata": {},
   "source": [
    "Nornmal "
   ]
  },
  {
   "cell_type": "code",
   "execution_count": null,
   "id": "dbfb5cb4",
   "metadata": {},
   "outputs": [],
   "source": [
    "model=LogisticRegression()\n",
    "model.fit(x_train,y_train)\n",
    "y_pred=model.predict(x_test)"
   ]
  },
  {
   "cell_type": "code",
   "execution_count": null,
   "id": "e052e57f",
   "metadata": {},
   "outputs": [],
   "source": [
    "acc=accuracy_score(y_test,y_pred)\n",
    "acc"
   ]
  },
  {
   "cell_type": "code",
   "execution_count": null,
   "id": "bb2165b8",
   "metadata": {},
   "outputs": [],
   "source": [
    "cm=confusion_matrix(y_test,y_pred)\n",
    "sns.heatmap(cm,annot=True,fmt=\"\")"
   ]
  },
  {
   "cell_type": "markdown",
   "id": "f65c4ce3",
   "metadata": {},
   "source": [
    "Standardization Scaled"
   ]
  },
  {
   "cell_type": "code",
   "execution_count": null,
   "id": "40ba12e9",
   "metadata": {},
   "outputs": [],
   "source": [
    "scaler=StandardScaler()\n",
    "\n",
    "scaler.fit(x_train)\n",
    "x_train_scaled=scaler.transform(x_train)\n",
    "\n",
    "# x_train_scaled=scaler.fit_transform(x_train) # same as above two line this is shortcut\n",
    "\n",
    "x_test_scaled=scaler.transform(x_test)"
   ]
  },
  {
   "cell_type": "code",
   "execution_count": null,
   "id": "8deb9416",
   "metadata": {},
   "outputs": [],
   "source": [
    "x_train_scaled"
   ]
  },
  {
   "cell_type": "code",
   "execution_count": null,
   "id": "34ecf81e",
   "metadata": {},
   "outputs": [],
   "source": [
    "model2=LogisticRegression()\n",
    "model2.fit(x_train_scaled,y_train)\n",
    "y_pred_scaled=model2.predict(x_test_scaled)"
   ]
  },
  {
   "cell_type": "code",
   "execution_count": null,
   "id": "8231e9aa",
   "metadata": {},
   "outputs": [],
   "source": [
    "acc=accuracy_score(y_test,y_pred_scaled)\n",
    "acc"
   ]
  },
  {
   "cell_type": "code",
   "execution_count": null,
   "id": "45064cf3",
   "metadata": {},
   "outputs": [],
   "source": [
    "cm=confusion_matrix(y_test,y_pred_scaled)\n",
    "sns.heatmap(cm,annot=True,fmt=\"\")"
   ]
  },
  {
   "cell_type": "markdown",
   "id": "488a75f3",
   "metadata": {},
   "source": [
    "Normalization Min-max"
   ]
  },
  {
   "cell_type": "code",
   "execution_count": null,
   "id": "82df6edf",
   "metadata": {},
   "outputs": [],
   "source": [
    "scaler=MinMaxScaler()\n",
    "\n",
    "scaler.fit(x_train)\n",
    "x_train_scaled=scaler.transform(x_train)\n",
    "\n",
    "# x_train_scaled=scaler.fit_transform(x_train) # same as above two line this is shortcut\n",
    "\n",
    "x_test_scaled=scaler.transform(x_test)"
   ]
  },
  {
   "cell_type": "code",
   "execution_count": null,
   "id": "52f8096b",
   "metadata": {},
   "outputs": [],
   "source": [
    "x_train_scaled"
   ]
  },
  {
   "cell_type": "code",
   "execution_count": null,
   "id": "b0cae157",
   "metadata": {},
   "outputs": [],
   "source": [
    "model3=LogisticRegression()\n",
    "model3.fit(x_train_scaled,y_train)\n",
    "y_pred_scaled=model3.predict(x_test_scaled)"
   ]
  },
  {
   "cell_type": "code",
   "execution_count": null,
   "id": "434cd2b1",
   "metadata": {},
   "outputs": [],
   "source": [
    "acc=accuracy_score(y_test,y_pred_scaled)\n",
    "acc"
   ]
  },
  {
   "cell_type": "code",
   "execution_count": null,
   "id": "727cecb7",
   "metadata": {},
   "outputs": [],
   "source": [
    "cm=confusion_matrix(y_test,y_pred_scaled)\n",
    "sns.heatmap(cm,annot=True,fmt=\"\")"
   ]
  }
 ],
 "metadata": {
  "kernelspec": {
   "display_name": "Python 3",
   "language": "python",
   "name": "python3"
  },
  "language_info": {
   "codemirror_mode": {
    "name": "ipython",
    "version": 3
   },
   "file_extension": ".py",
   "mimetype": "text/x-python",
   "name": "python",
   "nbconvert_exporter": "python",
   "pygments_lexer": "ipython3",
   "version": "3.13.6"
  }
 },
 "nbformat": 4,
 "nbformat_minor": 5
}
